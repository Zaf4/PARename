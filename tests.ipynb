{
 "cells": [
  {
   "cell_type": "code",
   "execution_count": 2,
   "id": "c982d210",
   "metadata": {},
   "outputs": [],
   "source": [
    "line = 'chrY\tHAVANA\texon\t57209219\t57209354\t.\t+\t.\tgene_id \"ENSG00000292372.1\"; transcript_id \"ENST00000711280.1\"; gene_type \"protein_coding\"; gene_name \"WASH6P\"; transcript_type \"protein_coding_CDS_not_defined\"; transcript_name \"WASH6P-225\"; exon_number 3; exon_id \"ENSE00004015150.1\"; level 2; transcript_support_level \"5\"; hgnc_id \"HGNC:31685\"; havana_gene \"OTTHUMG00000022677.5\"; havana_transcript \"OTTHUMT00000058830.1\";'"
   ]
  },
  {
   "cell_type": "code",
   "execution_count": 4,
   "id": "7ceaf50c",
   "metadata": {},
   "outputs": [
    {
     "data": {
      "text/plain": [
       "'chrY\\tHAVANA\\texon\\t57209219\\t57209354\\t.\\t+\\t.\\tgene_id \"ENSG00000292372.1\"; transcript_id \"ENST00000711280.1\"; gene_type \"protein_coding\"; gene_name \"WASH6P\"; transcript_type \"protein_coding_CDS_not_defined\"; transcript_name \"WASH6P-225\"; exon_number 3; exon_id \"ENSE00004015150.1\"; level 2; transcript_support_level \"5\"; hgnc_id \"HGNC:31685\"; havana_gene \"OTTHUMG00000022677.5\"; havana_transcript \"OTTHUMT00000058830.1\";'"
      ]
     },
     "execution_count": 4,
     "metadata": {},
     "output_type": "execute_result"
    }
   ],
   "source": [
    "line"
   ]
  },
  {
   "cell_type": "code",
   "execution_count": 6,
   "id": "addee977",
   "metadata": {},
   "outputs": [
    {
     "data": {
      "text/plain": [
       "['gene_id \"ENSG00000292372.1\"',\n",
       " 'transcript_id \"ENST00000711280.1\"',\n",
       " 'gene_type \"protein_coding\"',\n",
       " 'gene_name \"WASH6P\"',\n",
       " 'transcript_type \"protein_coding_CDS_not_defined\"',\n",
       " 'transcript_name \"WASH6P-225\"',\n",
       " 'exon_number 3',\n",
       " 'exon_id \"ENSE00004015150.1\"',\n",
       " 'level 2',\n",
       " 'transcript_support_level \"5\"',\n",
       " 'hgnc_id \"HGNC:31685\"',\n",
       " 'havana_gene \"OTTHUMG00000022677.5\"',\n",
       " 'havana_transcript \"OTTHUMT00000058830.1\";']"
      ]
     },
     "execution_count": 6,
     "metadata": {},
     "output_type": "execute_result"
    }
   ],
   "source": [
    "metadata = line.split('\\t')[-1].split('; ')\n",
    "metadata"
   ]
  },
  {
   "cell_type": "code",
   "execution_count": 15,
   "id": "147539a3",
   "metadata": {},
   "outputs": [
    {
     "data": {
      "text/plain": [
       "'chrY'"
      ]
     },
     "execution_count": 15,
     "metadata": {},
     "output_type": "execute_result"
    }
   ],
   "source": [
    "chr_name = line.split('\\t')[0]\n",
    "chr_name"
   ]
  },
  {
   "cell_type": "code",
   "execution_count": 8,
   "id": "8ac57dba",
   "metadata": {},
   "outputs": [
    {
     "data": {
      "text/plain": [
       "['gene_id',\n",
       " 'transcript_id',\n",
       " 'gene_type',\n",
       " 'gene_name',\n",
       " 'transcript_type',\n",
       " 'transcript_name',\n",
       " 'exon_number',\n",
       " 'exon_id',\n",
       " 'level',\n",
       " 'transcript_support_level',\n",
       " 'hgnc_id',\n",
       " 'havana_gene',\n",
       " 'havana_transcript']"
      ]
     },
     "execution_count": 8,
     "metadata": {},
     "output_type": "execute_result"
    }
   ],
   "source": [
    "headers = [m.split()[0] for m in metadata]\n",
    "headers"
   ]
  },
  {
   "cell_type": "code",
   "execution_count": 10,
   "id": "c15a8fe7",
   "metadata": {},
   "outputs": [
    {
     "data": {
      "text/plain": [
       "['ENSG00000292372.1',\n",
       " 'ENST00000711280.1',\n",
       " 'protein_coding',\n",
       " 'WASH6P',\n",
       " 'protein_coding_CDS_not_defined',\n",
       " 'WASH6P-225',\n",
       " '3',\n",
       " 'ENSE00004015150.1',\n",
       " '2',\n",
       " '5',\n",
       " 'HGNC:31685',\n",
       " 'OTTHUMG00000022677.5',\n",
       " 'OTTHUMT00000058830.1;']"
      ]
     },
     "execution_count": 10,
     "metadata": {},
     "output_type": "execute_result"
    }
   ],
   "source": [
    "values =  [m.split()[1].replace('\"','') for m in metadata]\n",
    "values"
   ]
  },
  {
   "cell_type": "code",
   "execution_count": 13,
   "id": "8d75905d",
   "metadata": {},
   "outputs": [
    {
     "data": {
      "text/plain": [
       "{'gene_id': 'ENSG00000292372.1',\n",
       " 'transcript_id': 'ENST00000711280.1',\n",
       " 'gene_type': 'protein_coding',\n",
       " 'gene_name': 'WASH6P',\n",
       " 'transcript_type': 'protein_coding_CDS_not_defined',\n",
       " 'transcript_name': 'WASH6P-225',\n",
       " 'exon_number': '3',\n",
       " 'exon_id': 'ENSE00004015150.1',\n",
       " 'level': '2',\n",
       " 'transcript_support_level': '5',\n",
       " 'hgnc_id': 'HGNC:31685',\n",
       " 'havana_gene': 'OTTHUMG00000022677.5',\n",
       " 'havana_transcript': 'OTTHUMT00000058830.1;'}"
      ]
     },
     "execution_count": 13,
     "metadata": {},
     "output_type": "execute_result"
    }
   ],
   "source": [
    "dict(zip(headers,values))"
   ]
  },
  {
   "cell_type": "code",
   "execution_count": 20,
   "id": "94ac8449",
   "metadata": {},
   "outputs": [],
   "source": [
    "def extract_line_metadata(line:str) -> dict:\n",
    "\n",
    "    # get chromosome name\n",
    "    chr_name = line.split('\\t')[0]\n",
    "    # get metadata\n",
    "    metadata = line.split('\\t')[-1].split('; ')\n",
    "    headers = [m.split()[0] for m in metadata]\n",
    "    values =  [m.split()[1].replace('\"','') for m in metadata]\n",
    "    info = dict(zip(headers,values))\n",
    "    # add chr name to dict\n",
    "    info['chr'] = chr_name\n",
    "\n",
    "    return info\n",
    "    "
   ]
  },
  {
   "cell_type": "code",
   "execution_count": 21,
   "id": "ed7dfc84",
   "metadata": {},
   "outputs": [
    {
     "data": {
      "text/plain": [
       "{'gene_id': 'ENSG00000292372.1',\n",
       " 'transcript_id': 'ENST00000711280.1',\n",
       " 'gene_type': 'protein_coding',\n",
       " 'gene_name': 'WASH6P',\n",
       " 'transcript_type': 'protein_coding_CDS_not_defined',\n",
       " 'transcript_name': 'WASH6P-225',\n",
       " 'exon_number': '3',\n",
       " 'exon_id': 'ENSE00004015150.1',\n",
       " 'level': '2',\n",
       " 'transcript_support_level': '5',\n",
       " 'hgnc_id': 'HGNC:31685',\n",
       " 'havana_gene': 'OTTHUMG00000022677.5',\n",
       " 'havana_transcript': 'OTTHUMT00000058830.1;',\n",
       " 'chr': 'chrY'}"
      ]
     },
     "execution_count": 21,
     "metadata": {},
     "output_type": "execute_result"
    }
   ],
   "source": [
    "extract_line_metadata(line=line)"
   ]
  },
  {
   "cell_type": "code",
   "execution_count": 22,
   "id": "c4eb603b",
   "metadata": {},
   "outputs": [],
   "source": [
    "import polars as pl"
   ]
  },
  {
   "cell_type": "code",
   "execution_count": 23,
   "id": "0454f900",
   "metadata": {},
   "outputs": [],
   "source": [
    "df = pl.read_csv('gencode.v47.annotation.tsv',separator=\"\\t\")"
   ]
  },
  {
   "cell_type": "code",
   "execution_count": 24,
   "id": "18996101",
   "metadata": {},
   "outputs": [
    {
     "data": {
      "text/html": [
       "<div><style>\n",
       ".dataframe > thead > tr,\n",
       ".dataframe > tbody > tr {\n",
       "  text-align: right;\n",
       "  white-space: pre-wrap;\n",
       "}\n",
       "</style>\n",
       "<small>shape: (150_950, 3)</small><table border=\"1\" class=\"dataframe\"><thead><tr><th>chr</th><th>gene_id</th><th>gene_name</th></tr><tr><td>str</td><td>str</td><td>str</td></tr></thead><tbody><tr><td>&quot;chrX&quot;</td><td>&quot;ENSG00000228572.7&quot;</td><td>&quot;ENSG00000228572&quot;</td></tr><tr><td>&quot;chrX&quot;</td><td>&quot;ENSG00000228572.7&quot;</td><td>&quot;ENSG00000228572&quot;</td></tr><tr><td>&quot;chrX&quot;</td><td>&quot;ENSG00000228572.7&quot;</td><td>&quot;ENSG00000228572&quot;</td></tr><tr><td>&quot;chrX&quot;</td><td>&quot;ENSG00000228572.7&quot;</td><td>&quot;ENSG00000228572&quot;</td></tr><tr><td>&quot;chrX&quot;</td><td>&quot;ENSG00000303837.1&quot;</td><td>&quot;ENSG00000303837&quot;</td></tr><tr><td>&hellip;</td><td>&hellip;</td><td>&hellip;</td></tr><tr><td>&quot;chrY&quot;</td><td>&quot;ENSG00000292371.1&quot;</td><td>&quot;DDX11L16&quot;</td></tr><tr><td>&quot;chrY&quot;</td><td>&quot;ENSG00000292371.1&quot;</td><td>&quot;DDX11L16&quot;</td></tr><tr><td>&quot;chrY&quot;</td><td>&quot;ENSG00000292371.1&quot;</td><td>&quot;DDX11L16&quot;</td></tr><tr><td>&quot;chrY&quot;</td><td>&quot;ENSG00000292371.1&quot;</td><td>&quot;DDX11L16&quot;</td></tr><tr><td>&quot;chrY&quot;</td><td>&quot;ENSG00000292371.1&quot;</td><td>&quot;DDX11L16&quot;</td></tr></tbody></table></div>"
      ],
      "text/plain": [
       "shape: (150_950, 3)\n",
       "┌──────┬───────────────────┬─────────────────┐\n",
       "│ chr  ┆ gene_id           ┆ gene_name       │\n",
       "│ ---  ┆ ---               ┆ ---             │\n",
       "│ str  ┆ str               ┆ str             │\n",
       "╞══════╪═══════════════════╪═════════════════╡\n",
       "│ chrX ┆ ENSG00000228572.7 ┆ ENSG00000228572 │\n",
       "│ chrX ┆ ENSG00000228572.7 ┆ ENSG00000228572 │\n",
       "│ chrX ┆ ENSG00000228572.7 ┆ ENSG00000228572 │\n",
       "│ chrX ┆ ENSG00000228572.7 ┆ ENSG00000228572 │\n",
       "│ chrX ┆ ENSG00000303837.1 ┆ ENSG00000303837 │\n",
       "│ …    ┆ …                 ┆ …               │\n",
       "│ chrY ┆ ENSG00000292371.1 ┆ DDX11L16        │\n",
       "│ chrY ┆ ENSG00000292371.1 ┆ DDX11L16        │\n",
       "│ chrY ┆ ENSG00000292371.1 ┆ DDX11L16        │\n",
       "│ chrY ┆ ENSG00000292371.1 ┆ DDX11L16        │\n",
       "│ chrY ┆ ENSG00000292371.1 ┆ DDX11L16        │\n",
       "└──────┴───────────────────┴─────────────────┘"
      ]
     },
     "execution_count": 24,
     "metadata": {},
     "output_type": "execute_result"
    }
   ],
   "source": [
    "df"
   ]
  },
  {
   "cell_type": "code",
   "execution_count": 28,
   "id": "03643085",
   "metadata": {},
   "outputs": [
    {
     "data": {
      "text/html": [
       "<div><style>\n",
       ".dataframe > thead > tr,\n",
       ".dataframe > tbody > tr {\n",
       "  text-align: right;\n",
       "  white-space: pre-wrap;\n",
       "}\n",
       "</style>\n",
       "<small>shape: (3_636, 3)</small><table border=\"1\" class=\"dataframe\"><thead><tr><th>chr</th><th>gene_id</th><th>gene_name</th></tr><tr><td>str</td><td>str</td><td>str</td></tr></thead><tbody><tr><td>&quot;chrX&quot;</td><td>&quot;ENSG00000228572.7&quot;</td><td>&quot;ENSG00000228572&quot;</td></tr><tr><td>&quot;chrX&quot;</td><td>&quot;ENSG00000303837.1&quot;</td><td>&quot;ENSG00000303837&quot;</td></tr><tr><td>&quot;chrX&quot;</td><td>&quot;ENSG00000182378.15&quot;</td><td>&quot;PLCXD1&quot;</td></tr><tr><td>&quot;chrX&quot;</td><td>&quot;ENSG00000303863.1&quot;</td><td>&quot;ENSG00000303863&quot;</td></tr><tr><td>&quot;chrX&quot;</td><td>&quot;ENSG00000178605.15&quot;</td><td>&quot;GTPBP6&quot;</td></tr><tr><td>&hellip;</td><td>&hellip;</td><td>&hellip;</td></tr><tr><td>&quot;chrY&quot;</td><td>&quot;ENSG00000292369.1&quot;</td><td>&quot;ENSG00000292369&quot;</td></tr><tr><td>&quot;chrY&quot;</td><td>&quot;ENSG00000292370.2&quot;</td><td>&quot;WASIR1&quot;</td></tr><tr><td>&quot;chrY&quot;</td><td>&quot;ENSG00000292372.1&quot;</td><td>&quot;WASH6P&quot;</td></tr><tr><td>&quot;chrY&quot;</td><td>&quot;ENSG00000310542.1&quot;</td><td>&quot;ENSG00000310542&quot;</td></tr><tr><td>&quot;chrY&quot;</td><td>&quot;ENSG00000292371.1&quot;</td><td>&quot;DDX11L16&quot;</td></tr></tbody></table></div>"
      ],
      "text/plain": [
       "shape: (3_636, 3)\n",
       "┌──────┬────────────────────┬─────────────────┐\n",
       "│ chr  ┆ gene_id            ┆ gene_name       │\n",
       "│ ---  ┆ ---                ┆ ---             │\n",
       "│ str  ┆ str                ┆ str             │\n",
       "╞══════╪════════════════════╪═════════════════╡\n",
       "│ chrX ┆ ENSG00000228572.7  ┆ ENSG00000228572 │\n",
       "│ chrX ┆ ENSG00000303837.1  ┆ ENSG00000303837 │\n",
       "│ chrX ┆ ENSG00000182378.15 ┆ PLCXD1          │\n",
       "│ chrX ┆ ENSG00000303863.1  ┆ ENSG00000303863 │\n",
       "│ chrX ┆ ENSG00000178605.15 ┆ GTPBP6          │\n",
       "│ …    ┆ …                  ┆ …               │\n",
       "│ chrY ┆ ENSG00000292369.1  ┆ ENSG00000292369 │\n",
       "│ chrY ┆ ENSG00000292370.2  ┆ WASIR1          │\n",
       "│ chrY ┆ ENSG00000292372.1  ┆ WASH6P          │\n",
       "│ chrY ┆ ENSG00000310542.1  ┆ ENSG00000310542 │\n",
       "│ chrY ┆ ENSG00000292371.1  ┆ DDX11L16        │\n",
       "└──────┴────────────────────┴─────────────────┘"
      ]
     },
     "execution_count": 28,
     "metadata": {},
     "output_type": "execute_result"
    }
   ],
   "source": [
    "unq = df.unique(pl.all(),maintain_order=True)\n",
    "unq"
   ]
  },
  {
   "cell_type": "code",
   "execution_count": 42,
   "id": "74f93bba",
   "metadata": {},
   "outputs": [],
   "source": [
    "repeats = pl.DataFrame()\n",
    "for row in df.iter_rows():\n",
    "    chr_name, gene_id,gene_name = row\n",
    "    filtered = df.filter(pl.col(\"gene_name\")==gene_name)\n",
    "    if filtered.height > 1:\n",
    "        repeats.vstack(filtered)"
   ]
  },
  {
   "cell_type": "code",
   "execution_count": 44,
   "id": "b5db2500",
   "metadata": {},
   "outputs": [
    {
     "data": {
      "text/html": [
       "<div><style>\n",
       ".dataframe > thead > tr,\n",
       ".dataframe > tbody > tr {\n",
       "  text-align: right;\n",
       "  white-space: pre-wrap;\n",
       "}\n",
       "</style>\n",
       "<small>shape: (0, 0)</small><table border=\"1\" class=\"dataframe\"><thead><tr></tr><tr></tr></thead><tbody></tbody></table></div>"
      ],
      "text/plain": [
       "shape: (0, 0)\n",
       "┌┐\n",
       "╞╡\n",
       "└┘"
      ]
     },
     "execution_count": 44,
     "metadata": {},
     "output_type": "execute_result"
    }
   ],
   "source": [
    "repeats"
   ]
  },
  {
   "cell_type": "code",
   "execution_count": 35,
   "id": "2eb260c0",
   "metadata": {},
   "outputs": [
    {
     "data": {
      "text/html": [
       "<div><style>\n",
       ".dataframe > thead > tr,\n",
       ".dataframe > tbody > tr {\n",
       "  text-align: right;\n",
       "  white-space: pre-wrap;\n",
       "}\n",
       "</style>\n",
       "<small>shape: (1, 3)</small><table border=\"1\" class=\"dataframe\"><thead><tr><th>chr</th><th>gene_id</th><th>gene_name</th></tr><tr><td>str</td><td>str</td><td>str</td></tr></thead><tbody><tr><td>&quot;chrY&quot;</td><td>&quot;ENSG00000292371.1&quot;</td><td>&quot;DDX11L16&quot;</td></tr></tbody></table></div>"
      ],
      "text/plain": [
       "shape: (1, 3)\n",
       "┌──────┬───────────────────┬───────────┐\n",
       "│ chr  ┆ gene_id           ┆ gene_name │\n",
       "│ ---  ┆ ---               ┆ ---       │\n",
       "│ str  ┆ str               ┆ str       │\n",
       "╞══════╪═══════════════════╪═══════════╡\n",
       "│ chrY ┆ ENSG00000292371.1 ┆ DDX11L16  │\n",
       "└──────┴───────────────────┴───────────┘"
      ]
     },
     "execution_count": 35,
     "metadata": {},
     "output_type": "execute_result"
    }
   ],
   "source": [
    "unq.filter(pl.col(\"gene_id\")==gene_id)"
   ]
  }
 ],
 "metadata": {
  "kernelspec": {
   "display_name": ".venv",
   "language": "python",
   "name": "python3"
  },
  "language_info": {
   "codemirror_mode": {
    "name": "ipython",
    "version": 3
   },
   "file_extension": ".py",
   "mimetype": "text/x-python",
   "name": "python",
   "nbconvert_exporter": "python",
   "pygments_lexer": "ipython3",
   "version": "3.12.10"
  }
 },
 "nbformat": 4,
 "nbformat_minor": 5
}
