{
 "cells": [
  {
   "cell_type": "code",
   "execution_count": 12,
   "id": "c4eb603b",
   "metadata": {},
   "outputs": [],
   "source": [
    "import polars as pl"
   ]
  },
  {
   "cell_type": "code",
   "execution_count": 13,
   "id": "94ac8449",
   "metadata": {},
   "outputs": [],
   "source": [
    "def extract_line_metadata(line:str) -> dict:\n",
    "\n",
    "    # get chromosome name\n",
    "    chr_name = line.split('\\t')[0]\n",
    "    # get metadata\n",
    "    metadata = line.split('\\t')[-1].split('; ')\n",
    "    headers = [m.split()[0] for m in metadata]\n",
    "    values =  [m.split()[1].replace('\"','') for m in metadata]\n",
    "    info = dict(zip(headers,values))\n",
    "    # add chr name to dict\n",
    "    info['chr'] = chr_name\n",
    "\n",
    "    return info\n",
    "    "
   ]
  },
  {
   "cell_type": "code",
   "execution_count": 14,
   "id": "30fd5175",
   "metadata": {},
   "outputs": [],
   "source": [
    "def is_XorY(name:str)->bool:\n",
    "    \"\"\"Checks whether a chromosome is X or Y chromosome by its name.\"\"\"\n",
    "    return 'x' in name.lower() or 'y' in name.lower()\n",
    "\n",
    "def extract_line_metadata(line:str) -> dict:\n",
    "\n",
    "    # get chromosome name\n",
    "    chr_name = line.split('\\t')[0]\n",
    "    # get metadata\n",
    "    metadata = line.split('\\t')[-1].split('; ')\n",
    "    headers = [m.split()[0] for m in metadata]\n",
    "    values =  [m.split()[1].replace('\"','') for m in metadata]\n",
    "    info = dict(zip(headers,values))\n",
    "    # add chr name to dict\n",
    "    info['chr'] = chr_name\n",
    "\n",
    "    return info\n",
    "    \n",
    "\n",
    "def parse_gtf(gtf_file:str):\n",
    "    \n",
    "    tsv_file = gtf_file.replace('gtf','tsv')\n",
    "    with open(tsv_file,'w') as tsv:\n",
    "        tsv.write(\"chr\\tgene_id\\tgene_name\\tline\\n\") # header line\n",
    "        with open(gtf_file,'r') as file:\n",
    "            for i,line in enumerate(file):\n",
    "                if line.startswith('##'): # ignore headers\n",
    "                    continue\n",
    "                elif line.startswith('\\n'): # last line\n",
    "                    pass\n",
    "                else:\n",
    "                    chr_name = line.split('\\t')[0]\n",
    "                    if is_XorY(chr_name):\n",
    "                        info = extract_line_metadata(line=line)\n",
    "                        to_write = f\"{info['chr']}\\t{info['gene_id']}\\t{info['gene_name']}\\t{i}\\n\"\n",
    "                        tsv.write(to_write)\n",
    "    \n",
    "    return"
   ]
  },
  {
   "cell_type": "code",
   "execution_count": 15,
   "id": "5bf95654",
   "metadata": {},
   "outputs": [],
   "source": [
    "parse_gtf('madeup.gtf')"
   ]
  },
  {
   "cell_type": "code",
   "execution_count": 16,
   "id": "0454f900",
   "metadata": {},
   "outputs": [
    {
     "data": {
      "text/html": [
       "<div><style>\n",
       ".dataframe > thead > tr,\n",
       ".dataframe > tbody > tr {\n",
       "  text-align: right;\n",
       "  white-space: pre-wrap;\n",
       "}\n",
       "</style>\n",
       "<small>shape: (6, 4)</small><table border=\"1\" class=\"dataframe\"><thead><tr><th>chr</th><th>gene_id</th><th>gene_name</th><th>line</th></tr><tr><td>str</td><td>str</td><td>str</td><td>i64</td></tr></thead><tbody><tr><td>&quot;chrX&quot;</td><td>&quot;ENSG00000183918.18&quot;</td><td>&quot;SH2D1A&quot;</td><td>16</td></tr><tr><td>&quot;chrX&quot;</td><td>&quot;ENSG00000183918.18&quot;</td><td>&quot;SH2D1A&quot;</td><td>17</td></tr><tr><td>&quot;chrY&quot;</td><td>&quot;ENSG00000183918.12&quot;</td><td>&quot;IL3RA&quot;</td><td>18</td></tr><tr><td>&quot;chrY&quot;</td><td>&quot;ENSG00000183918.18&quot;</td><td>&quot;IL3RA&quot;</td><td>19</td></tr><tr><td>&quot;chrY&quot;</td><td>&quot;ENSG00000183918.18&quot;</td><td>&quot;IL3RA&quot;</td><td>20</td></tr><tr><td>&quot;chrY&quot;</td><td>&quot;ENSG00000183918.18&quot;</td><td>&quot;SH2D1A&quot;</td><td>21</td></tr></tbody></table></div>"
      ],
      "text/plain": [
       "shape: (6, 4)\n",
       "┌──────┬────────────────────┬───────────┬──────┐\n",
       "│ chr  ┆ gene_id            ┆ gene_name ┆ line │\n",
       "│ ---  ┆ ---                ┆ ---       ┆ ---  │\n",
       "│ str  ┆ str                ┆ str       ┆ i64  │\n",
       "╞══════╪════════════════════╪═══════════╪══════╡\n",
       "│ chrX ┆ ENSG00000183918.18 ┆ SH2D1A    ┆ 16   │\n",
       "│ chrX ┆ ENSG00000183918.18 ┆ SH2D1A    ┆ 17   │\n",
       "│ chrY ┆ ENSG00000183918.12 ┆ IL3RA     ┆ 18   │\n",
       "│ chrY ┆ ENSG00000183918.18 ┆ IL3RA     ┆ 19   │\n",
       "│ chrY ┆ ENSG00000183918.18 ┆ IL3RA     ┆ 20   │\n",
       "│ chrY ┆ ENSG00000183918.18 ┆ SH2D1A    ┆ 21   │\n",
       "└──────┴────────────────────┴───────────┴──────┘"
      ]
     },
     "execution_count": 16,
     "metadata": {},
     "output_type": "execute_result"
    }
   ],
   "source": [
    "df = pl.read_csv('madeup.tsv',separator=\"\\t\")\n",
    "df"
   ]
  },
  {
   "cell_type": "code",
   "execution_count": 17,
   "id": "03643085",
   "metadata": {},
   "outputs": [
    {
     "data": {
      "text/html": [
       "<div><style>\n",
       ".dataframe > thead > tr,\n",
       ".dataframe > tbody > tr {\n",
       "  text-align: right;\n",
       "  white-space: pre-wrap;\n",
       "}\n",
       "</style>\n",
       "<small>shape: (3, 4)</small><table border=\"1\" class=\"dataframe\"><thead><tr><th>chr</th><th>gene_id</th><th>gene_name</th><th>line</th></tr><tr><td>str</td><td>str</td><td>str</td><td>i64</td></tr></thead><tbody><tr><td>&quot;chrX&quot;</td><td>&quot;ENSG00000183918.18&quot;</td><td>&quot;SH2D1A&quot;</td><td>16</td></tr><tr><td>&quot;chrY&quot;</td><td>&quot;ENSG00000183918.12&quot;</td><td>&quot;IL3RA&quot;</td><td>18</td></tr><tr><td>&quot;chrY&quot;</td><td>&quot;ENSG00000183918.18&quot;</td><td>&quot;IL3RA&quot;</td><td>19</td></tr></tbody></table></div>"
      ],
      "text/plain": [
       "shape: (3, 4)\n",
       "┌──────┬────────────────────┬───────────┬──────┐\n",
       "│ chr  ┆ gene_id            ┆ gene_name ┆ line │\n",
       "│ ---  ┆ ---                ┆ ---       ┆ ---  │\n",
       "│ str  ┆ str                ┆ str       ┆ i64  │\n",
       "╞══════╪════════════════════╪═══════════╪══════╡\n",
       "│ chrX ┆ ENSG00000183918.18 ┆ SH2D1A    ┆ 16   │\n",
       "│ chrY ┆ ENSG00000183918.12 ┆ IL3RA     ┆ 18   │\n",
       "│ chrY ┆ ENSG00000183918.18 ┆ IL3RA     ┆ 19   │\n",
       "└──────┴────────────────────┴───────────┴──────┘"
      ]
     },
     "execution_count": 17,
     "metadata": {},
     "output_type": "execute_result"
    }
   ],
   "source": [
    "unq = df.unique(['chr','gene_id'])\n",
    "unq"
   ]
  },
  {
   "cell_type": "code",
   "execution_count": 18,
   "id": "e1b86f23",
   "metadata": {},
   "outputs": [],
   "source": [
    "selector = 'gene_id'"
   ]
  },
  {
   "cell_type": "code",
   "execution_count": 19,
   "id": "e721c999",
   "metadata": {},
   "outputs": [
    {
     "data": {
      "text/plain": [
       "['ENSG00000183918.18', 'ENSG00000183918.12']"
      ]
     },
     "execution_count": 19,
     "metadata": {},
     "output_type": "execute_result"
    }
   ],
   "source": [
    "gene_ids = unq.select(selector).unique(selector).to_series().to_list()\n",
    "gene_ids"
   ]
  },
  {
   "cell_type": "code",
   "execution_count": 20,
   "id": "74f93bba",
   "metadata": {},
   "outputs": [],
   "source": [
    "repeated = []\n",
    "for gene_id in gene_ids:\n",
    "    filtered = unq.filter(pl.col(selector)==gene_id)\n",
    "    if filtered.height > 1: # means there is a repeat (exist both on x and y chr)\n",
    "        repeated.append(gene_id)"
   ]
  },
  {
   "cell_type": "code",
   "execution_count": 21,
   "id": "effbbb22",
   "metadata": {},
   "outputs": [
    {
     "data": {
      "text/plain": [
       "['ENSG00000183918.18']"
      ]
     },
     "execution_count": 21,
     "metadata": {},
     "output_type": "execute_result"
    }
   ],
   "source": [
    "repeated"
   ]
  },
  {
   "cell_type": "code",
   "execution_count": 22,
   "id": "77b273ef",
   "metadata": {},
   "outputs": [
    {
     "data": {
      "text/html": [
       "<div><style>\n",
       ".dataframe > thead > tr,\n",
       ".dataframe > tbody > tr {\n",
       "  text-align: right;\n",
       "  white-space: pre-wrap;\n",
       "}\n",
       "</style>\n",
       "<small>shape: (3, 4)</small><table border=\"1\" class=\"dataframe\"><thead><tr><th>chr</th><th>gene_id</th><th>gene_name</th><th>line</th></tr><tr><td>str</td><td>str</td><td>str</td><td>i64</td></tr></thead><tbody><tr><td>&quot;chrY&quot;</td><td>&quot;ENSG00000183918.18&quot;</td><td>&quot;IL3RA&quot;</td><td>19</td></tr><tr><td>&quot;chrY&quot;</td><td>&quot;ENSG00000183918.18&quot;</td><td>&quot;IL3RA&quot;</td><td>20</td></tr><tr><td>&quot;chrY&quot;</td><td>&quot;ENSG00000183918.18&quot;</td><td>&quot;SH2D1A&quot;</td><td>21</td></tr></tbody></table></div>"
      ],
      "text/plain": [
       "shape: (3, 4)\n",
       "┌──────┬────────────────────┬───────────┬──────┐\n",
       "│ chr  ┆ gene_id            ┆ gene_name ┆ line │\n",
       "│ ---  ┆ ---                ┆ ---       ┆ ---  │\n",
       "│ str  ┆ str                ┆ str       ┆ i64  │\n",
       "╞══════╪════════════════════╪═══════════╪══════╡\n",
       "│ chrY ┆ ENSG00000183918.18 ┆ IL3RA     ┆ 19   │\n",
       "│ chrY ┆ ENSG00000183918.18 ┆ IL3RA     ┆ 20   │\n",
       "│ chrY ┆ ENSG00000183918.18 ┆ SH2D1A    ┆ 21   │\n",
       "└──────┴────────────────────┴───────────┴──────┘"
      ]
     },
     "execution_count": 22,
     "metadata": {},
     "output_type": "execute_result"
    }
   ],
   "source": [
    "to_change = df.filter(pl.col(selector).is_in(repeated),pl.col('chr').is_in(['Y','chrY']))\n",
    "to_change"
   ]
  },
  {
   "cell_type": "code",
   "execution_count": 23,
   "id": "db11ec2f",
   "metadata": {},
   "outputs": [
    {
     "data": {
      "text/html": [
       "<div><style>\n",
       ".dataframe > thead > tr,\n",
       ".dataframe > tbody > tr {\n",
       "  text-align: right;\n",
       "  white-space: pre-wrap;\n",
       "}\n",
       "</style>\n",
       "<small>shape: (3, 5)</small><table border=\"1\" class=\"dataframe\"><thead><tr><th>chr</th><th>gene_id</th><th>gene_name</th><th>line</th><th>gene_id_suffix</th></tr><tr><td>str</td><td>str</td><td>str</td><td>i64</td><td>str</td></tr></thead><tbody><tr><td>&quot;chrY&quot;</td><td>&quot;ENSG00000183918.18&quot;</td><td>&quot;IL3RA&quot;</td><td>19</td><td>&quot;ENSG00000183918.18_PAR_Y&quot;</td></tr><tr><td>&quot;chrY&quot;</td><td>&quot;ENSG00000183918.18&quot;</td><td>&quot;IL3RA&quot;</td><td>20</td><td>&quot;ENSG00000183918.18_PAR_Y&quot;</td></tr><tr><td>&quot;chrY&quot;</td><td>&quot;ENSG00000183918.18&quot;</td><td>&quot;SH2D1A&quot;</td><td>21</td><td>&quot;ENSG00000183918.18_PAR_Y&quot;</td></tr></tbody></table></div>"
      ],
      "text/plain": [
       "shape: (3, 5)\n",
       "┌──────┬────────────────────┬───────────┬──────┬──────────────────────────┐\n",
       "│ chr  ┆ gene_id            ┆ gene_name ┆ line ┆ gene_id_suffix           │\n",
       "│ ---  ┆ ---                ┆ ---       ┆ ---  ┆ ---                      │\n",
       "│ str  ┆ str                ┆ str       ┆ i64  ┆ str                      │\n",
       "╞══════╪════════════════════╪═══════════╪══════╪══════════════════════════╡\n",
       "│ chrY ┆ ENSG00000183918.18 ┆ IL3RA     ┆ 19   ┆ ENSG00000183918.18_PAR_Y │\n",
       "│ chrY ┆ ENSG00000183918.18 ┆ IL3RA     ┆ 20   ┆ ENSG00000183918.18_PAR_Y │\n",
       "│ chrY ┆ ENSG00000183918.18 ┆ SH2D1A    ┆ 21   ┆ ENSG00000183918.18_PAR_Y │\n",
       "└──────┴────────────────────┴───────────┴──────┴──────────────────────────┘"
      ]
     },
     "execution_count": 23,
     "metadata": {},
     "output_type": "execute_result"
    }
   ],
   "source": [
    "y_modified = to_change.with_columns(\n",
    "    pl.col(selector).add('_PAR_Y').alias('gene_id_suffix')\n",
    ")\n",
    "y_modified"
   ]
  },
  {
   "cell_type": "code",
   "execution_count": 24,
   "id": "7c3a0fe1",
   "metadata": {},
   "outputs": [],
   "source": [
    "def find_PAR(tsv_file:str,*,selector:str='gene_id', sort:bool=True)->pl.DataFrame:\n",
    "    df = pl.read_csv(tsv_file,separator=\"\\t\")\n",
    "    unq = df.unique(pl.all().exclude('line'))\n",
    "    gene_ids = unq.select(selector).unique(selector).to_series().to_list()\n",
    "\n",
    "    # find repeated gene_id for X and Y chromosomes\n",
    "    repeated = []\n",
    "    for gene_id in gene_ids:\n",
    "        filtered = unq.filter(pl.col(selector)==gene_id)\n",
    "        if filtered.height > 1: # means there is a repeat (exist both on x and y chr)\n",
    "            repeated.append(gene_id)\n",
    "    \n",
    "    # find line to change gene_id (add suffix) \n",
    "    to_change = df.filter(pl.col(selector).is_in(repeated),pl.col('chr').is_in(['Y','chrY']))\n",
    "    # add the suffix\n",
    "    modified = to_change.with_columns(pl.col(selector).add('_PAR_Y').alias('gene_id_par'))\n",
    "\n",
    "    if sort:\n",
    "        modified = modified.sort('line')\n",
    "\n",
    "    return modified"
   ]
  },
  {
   "cell_type": "code",
   "execution_count": 25,
   "id": "b9c722a2",
   "metadata": {},
   "outputs": [
    {
     "data": {
      "text/html": [
       "<div><style>\n",
       ".dataframe > thead > tr,\n",
       ".dataframe > tbody > tr {\n",
       "  text-align: right;\n",
       "  white-space: pre-wrap;\n",
       "}\n",
       "</style>\n",
       "<small>shape: (3, 5)</small><table border=\"1\" class=\"dataframe\"><thead><tr><th>chr</th><th>gene_id</th><th>gene_name</th><th>line</th><th>gene_id_par</th></tr><tr><td>str</td><td>str</td><td>str</td><td>i64</td><td>str</td></tr></thead><tbody><tr><td>&quot;chrY&quot;</td><td>&quot;ENSG00000183918.18&quot;</td><td>&quot;IL3RA&quot;</td><td>19</td><td>&quot;ENSG00000183918.18_PAR_Y&quot;</td></tr><tr><td>&quot;chrY&quot;</td><td>&quot;ENSG00000183918.18&quot;</td><td>&quot;IL3RA&quot;</td><td>20</td><td>&quot;ENSG00000183918.18_PAR_Y&quot;</td></tr><tr><td>&quot;chrY&quot;</td><td>&quot;ENSG00000183918.18&quot;</td><td>&quot;SH2D1A&quot;</td><td>21</td><td>&quot;ENSG00000183918.18_PAR_Y&quot;</td></tr></tbody></table></div>"
      ],
      "text/plain": [
       "shape: (3, 5)\n",
       "┌──────┬────────────────────┬───────────┬──────┬──────────────────────────┐\n",
       "│ chr  ┆ gene_id            ┆ gene_name ┆ line ┆ gene_id_par              │\n",
       "│ ---  ┆ ---                ┆ ---       ┆ ---  ┆ ---                      │\n",
       "│ str  ┆ str                ┆ str       ┆ i64  ┆ str                      │\n",
       "╞══════╪════════════════════╪═══════════╪══════╪══════════════════════════╡\n",
       "│ chrY ┆ ENSG00000183918.18 ┆ IL3RA     ┆ 19   ┆ ENSG00000183918.18_PAR_Y │\n",
       "│ chrY ┆ ENSG00000183918.18 ┆ IL3RA     ┆ 20   ┆ ENSG00000183918.18_PAR_Y │\n",
       "│ chrY ┆ ENSG00000183918.18 ┆ SH2D1A    ┆ 21   ┆ ENSG00000183918.18_PAR_Y │\n",
       "└──────┴────────────────────┴───────────┴──────┴──────────────────────────┘"
      ]
     },
     "execution_count": 25,
     "metadata": {},
     "output_type": "execute_result"
    }
   ],
   "source": [
    "modified = find_PAR('madeup.tsv')\n",
    "modified"
   ]
  },
  {
   "cell_type": "code",
   "execution_count": 26,
   "id": "5e109642",
   "metadata": {},
   "outputs": [
    {
     "data": {
      "text/plain": [
       "[19, 20, 21]"
      ]
     },
     "execution_count": 26,
     "metadata": {},
     "output_type": "execute_result"
    }
   ],
   "source": [
    "line_numbers = modified.select('line').to_series().to_list()\n",
    "line_numbers"
   ]
  },
  {
   "cell_type": "code",
   "execution_count": 27,
   "id": "67ec61f1",
   "metadata": {},
   "outputs": [],
   "source": [
    "i = 20"
   ]
  },
  {
   "cell_type": "code",
   "execution_count": 28,
   "id": "aec10fe6",
   "metadata": {},
   "outputs": [
    {
     "data": {
      "text/html": [
       "<div><style>\n",
       ".dataframe > thead > tr,\n",
       ".dataframe > tbody > tr {\n",
       "  text-align: right;\n",
       "  white-space: pre-wrap;\n",
       "}\n",
       "</style>\n",
       "<small>shape: (1, 5)</small><table border=\"1\" class=\"dataframe\"><thead><tr><th>chr</th><th>gene_id</th><th>gene_name</th><th>line</th><th>gene_id_par</th></tr><tr><td>str</td><td>str</td><td>str</td><td>i64</td><td>str</td></tr></thead><tbody><tr><td>&quot;chrY&quot;</td><td>&quot;ENSG00000183918.18&quot;</td><td>&quot;IL3RA&quot;</td><td>20</td><td>&quot;ENSG00000183918.18_PAR_Y&quot;</td></tr></tbody></table></div>"
      ],
      "text/plain": [
       "shape: (1, 5)\n",
       "┌──────┬────────────────────┬───────────┬──────┬──────────────────────────┐\n",
       "│ chr  ┆ gene_id            ┆ gene_name ┆ line ┆ gene_id_par              │\n",
       "│ ---  ┆ ---                ┆ ---       ┆ ---  ┆ ---                      │\n",
       "│ str  ┆ str                ┆ str       ┆ i64  ┆ str                      │\n",
       "╞══════╪════════════════════╪═══════════╪══════╪══════════════════════════╡\n",
       "│ chrY ┆ ENSG00000183918.18 ┆ IL3RA     ┆ 20   ┆ ENSG00000183918.18_PAR_Y │\n",
       "└──────┴────────────────────┴───────────┴──────┴──────────────────────────┘"
      ]
     },
     "execution_count": 28,
     "metadata": {},
     "output_type": "execute_result"
    }
   ],
   "source": [
    "row = modified.filter(pl.col('line')==i)\n",
    "row"
   ]
  },
  {
   "cell_type": "code",
   "execution_count": 36,
   "id": "f7a73d0f",
   "metadata": {},
   "outputs": [],
   "source": [
    "def replace_PAR(gtf_file:str)->None:\n",
    "\n",
    "    tsv_file = gtf_file.replace('gtf','tsv') # change suffix to tsv\n",
    "    parse_gtf(gtf_file=gtf_file) # generates a tsv file \n",
    "    \n",
    "    # modify the gene ids\n",
    "    modified = find_PAR(tsv_file)\n",
    "    line_numbers = modified.select('line').to_series().to_list() # line to be altered\n",
    "\n",
    "    par_gtf_file = gtf_file.replace('.gtf','.par.gtf')\n",
    "    # IO operations\n",
    "    with open(par_gtf_file,'w') as par: # open PAR gtf to write\n",
    "        with open(gtf_file,'r') as gtf: # open gtf to read\n",
    "            for i,line in enumerate(gtf):\n",
    "                if i in line_numbers:\n",
    "                    # if line is to be changed\n",
    "                    row = modified.filter(pl.col('line')==i)\n",
    "                    print(row)\n",
    "                    gene_id = row.select('gene_id').item()  # retrieve original gene id\n",
    "                    gene_id_par = row.select('gene_id_par').item() # retrieve PAR gene id\n",
    "                    new_line = line.replace(gene_id,gene_id_par) # replace the gene id with PAR gene id\n",
    "                else:\n",
    "                    new_line = line\n",
    "                # write the line\n",
    "                par.write(new_line)\n",
    "\n",
    "    return"
   ]
  },
  {
   "cell_type": "code",
   "execution_count": 38,
   "id": "2b2b8373",
   "metadata": {},
   "outputs": [
    {
     "name": "stdout",
     "output_type": "stream",
     "text": [
      "shape: (1, 5)\n",
      "┌──────┬────────────────────┬───────────┬──────┬──────────────────────────┐\n",
      "│ chr  ┆ gene_id            ┆ gene_name ┆ line ┆ gene_id_par              │\n",
      "│ ---  ┆ ---                ┆ ---       ┆ ---  ┆ ---                      │\n",
      "│ str  ┆ str                ┆ str       ┆ i64  ┆ str                      │\n",
      "╞══════╪════════════════════╪═══════════╪══════╪══════════════════════════╡\n",
      "│ chrY ┆ ENSG00000183918.18 ┆ IL3RA     ┆ 19   ┆ ENSG00000183918.18_PAR_Y │\n",
      "└──────┴────────────────────┴───────────┴──────┴──────────────────────────┘\n",
      "shape: (1, 5)\n",
      "┌──────┬────────────────────┬───────────┬──────┬──────────────────────────┐\n",
      "│ chr  ┆ gene_id            ┆ gene_name ┆ line ┆ gene_id_par              │\n",
      "│ ---  ┆ ---                ┆ ---       ┆ ---  ┆ ---                      │\n",
      "│ str  ┆ str                ┆ str       ┆ i64  ┆ str                      │\n",
      "╞══════╪════════════════════╪═══════════╪══════╪══════════════════════════╡\n",
      "│ chrY ┆ ENSG00000183918.18 ┆ IL3RA     ┆ 20   ┆ ENSG00000183918.18_PAR_Y │\n",
      "└──────┴────────────────────┴───────────┴──────┴──────────────────────────┘\n",
      "shape: (1, 5)\n",
      "┌──────┬────────────────────┬───────────┬──────┬──────────────────────────┐\n",
      "│ chr  ┆ gene_id            ┆ gene_name ┆ line ┆ gene_id_par              │\n",
      "│ ---  ┆ ---                ┆ ---       ┆ ---  ┆ ---                      │\n",
      "│ str  ┆ str                ┆ str       ┆ i64  ┆ str                      │\n",
      "╞══════╪════════════════════╪═══════════╪══════╪══════════════════════════╡\n",
      "│ chrY ┆ ENSG00000183918.18 ┆ SH2D1A    ┆ 21   ┆ ENSG00000183918.18_PAR_Y │\n",
      "└──────┴────────────────────┴───────────┴──────┴──────────────────────────┘\n"
     ]
    }
   ],
   "source": [
    "replace_PAR('madeup.gtf')"
   ]
  }
 ],
 "metadata": {
  "kernelspec": {
   "display_name": ".venv",
   "language": "python",
   "name": "python3"
  },
  "language_info": {
   "codemirror_mode": {
    "name": "ipython",
    "version": 3
   },
   "file_extension": ".py",
   "mimetype": "text/x-python",
   "name": "python",
   "nbconvert_exporter": "python",
   "pygments_lexer": "ipython3",
   "version": "3.12.10"
  }
 },
 "nbformat": 4,
 "nbformat_minor": 5
}
