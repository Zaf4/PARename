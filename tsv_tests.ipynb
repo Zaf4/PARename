{
 "cells": [
  {
   "cell_type": "code",
   "execution_count": null,
   "id": "21f7e6c0",
   "metadata": {},
   "outputs": [],
   "source": [
    "import polars as pl"
   ]
  },
  {
   "cell_type": "code",
   "execution_count": 9,
   "id": "9110c537",
   "metadata": {},
   "outputs": [],
   "source": [
    "\n",
    "from typing import Literal\n",
    "\n",
    "class FileTypeCouldNotBeInferredError(Exception):\n",
    "    def __init__(self, message=\"The file type of the supposed gtf or gff3 file could not be inferred.\"):\n",
    "        self.message = message\n",
    "        super().__init__(self.message)\n",
    "\n",
    "def is_XorY(name:str)->bool:\n",
    "    \"\"\"Checks whether a chromosome is X or Y chromosome by its name.\"\"\"\n",
    "    return 'x' in name.lower() or 'y' in name.lower()\n",
    "\n",
    "def infer_file_type(fname:str)-> Literal['gtf','gff3']:\n",
    "    '''Infer the file type of the gtf or gff file.'''\n",
    "    file_type = None\n",
    "    with open(fname,'r') as file:\n",
    "        for line in file:\n",
    "            if line.startswith('#'): # ignore headers\n",
    "                continue\n",
    "            else:\n",
    "                attributes = line.split('\\t')[-1]\n",
    "                if \"=\" in attributes:\n",
    "                    file_type = 'gff3'\n",
    "                elif '\"' in attributes:\n",
    "                    file_type = 'gtf'\n",
    "                else:\n",
    "                    raise FileTypeCouldNotBeInferredError(\"The file type of the supposed gtf or gff3 file could not be inferred.\")\n",
    "                \n",
    "    return file_type\n",
    "\n",
    "\n",
    "def _extract_line_metadata_gtf(line:str) -> dict:\n",
    "\n",
    "    # get chromosome name\n",
    "    chr_name = line.split('\\t')[0]\n",
    "    # get metadata\n",
    "    metadata = line.split('\\t')[-1].split('; ')\n",
    "    headers = [m.split()[0] for m in metadata]\n",
    "    values =  [m.split()[1].replace('\"','') for m in metadata]\n",
    "    info = dict(zip(headers,values))\n",
    "    # add chr name to dict\n",
    "    info['chr'] = chr_name\n",
    "\n",
    "    if 'gene_id' not in info:\n",
    "        info['gene_id'] = ''\n",
    "    if 'gene_name' not in info:\n",
    "        info['gene_name'] = ''\n",
    "\n",
    "\n",
    "    return info\n",
    "\n",
    "\n",
    "def _extract_line_metadata_gff3(line:str) -> dict:\n",
    "\n",
    "    # get chromosome name\n",
    "    chr_name = line.split('\\t')[0]\n",
    "    # get metadata\n",
    "    metadata = line.split('\\t')[-1].split(';') # no spaces for gff3\n",
    "    headers = [m.split('=')[0] for m in metadata]\n",
    "    values =  [m.split('=')[1] for m in metadata]\n",
    "    info = dict(zip(headers,values))\n",
    "    # add chr name to dict\n",
    "    info['chr'] = chr_name\n",
    "\n",
    "    if 'ID' not in info:\n",
    "        info['ID'] = ''\n",
    "    if 'Name' not in info:\n",
    "        info['Name'] = ''\n",
    "\n",
    "\n",
    "    # rename some keys\n",
    "    info['gene_id'] = info.pop('ID')\n",
    "    info['gene_name'] = info.pop('Name')\n",
    "\n",
    "\n",
    "\n",
    "    return info\n",
    "\n",
    "\n",
    "def extract_line_metadata(line:str, file_type:Literal['gff3','gtf']) -> dict:\n",
    "\n",
    "    if file_type == 'gtf':\n",
    "        info = _extract_line_metadata_gtf(line=line)\n",
    "    elif file_type == 'gff3':\n",
    "        info = _extract_line_metadata_gff3(line=line)\n",
    "    else:\n",
    "        raise ValueError(f'File type should be either `gff3` or `gtf` not `{file_type}`')\n",
    "\n",
    "    return info\n",
    "\n",
    "def parse_gxf(gxf_file:str):\n",
    "    \"\"\"Parse gxf file into  tsv file.\"\"\"\n",
    "    extension = gxf_file.split(\".\")[-1]\n",
    "    tsv_file = gxf_file.replace(extension,'tsv')\n",
    "    file_type = infer_file_type(fname=gxf_file)\n",
    "    with open(tsv_file,'w') as tsv:\n",
    "        tsv.write(\"chr\\tgene_id\\tgene_name\\tline\\n\") # header line\n",
    "        with open(gxf_file,'r') as file:\n",
    "            for i,line in enumerate(file):\n",
    "                if line.startswith('#'): # ignore headers\n",
    "                    continue\n",
    "                elif line.startswith('\\n'): # last line\n",
    "                    pass\n",
    "                else:\n",
    "                    chr_name = line.split('\\t')[0]\n",
    "                    if True:\n",
    "                        info = extract_line_metadata(line=line,file_type=file_type)\n",
    "                        to_write = f\"{info['chr']}\\t{info['gene_id']}\\t{info['gene_name']}\\t{i}\\n\"\n",
    "                        tsv.write(to_write)\n",
    "    \n",
    "    return"
   ]
  },
  {
   "cell_type": "code",
   "execution_count": 13,
   "id": "72eedd6b",
   "metadata": {},
   "outputs": [],
   "source": [
    "parse_gxf('data/Homo_sapiens.GRCh38.113.gtf')"
   ]
  },
  {
   "cell_type": "code",
   "execution_count": 15,
   "id": "8d8ffc62",
   "metadata": {},
   "outputs": [],
   "source": [
    "df = pl.read_csv('data/Homo_sapiens.GRCh38.113.tsv',separator='\\t',schema_overrides={'chr': pl.Utf8})"
   ]
  },
  {
   "cell_type": "code",
   "execution_count": 16,
   "id": "2a67a661",
   "metadata": {},
   "outputs": [
    {
     "data": {
      "text/html": [
       "<div><style>\n",
       ".dataframe > thead > tr,\n",
       ".dataframe > tbody > tr {\n",
       "  text-align: right;\n",
       "  white-space: pre-wrap;\n",
       "}\n",
       "</style>\n",
       "<small>shape: (4_114_450, 4)</small><table border=\"1\" class=\"dataframe\"><thead><tr><th>chr</th><th>gene_id</th><th>gene_name</th><th>line</th></tr><tr><td>str</td><td>str</td><td>str</td><td>i64</td></tr></thead><tbody><tr><td>&quot;1&quot;</td><td>&quot;ENSG00000142611&quot;</td><td>&quot;PRDM16&quot;</td><td>5</td></tr><tr><td>&quot;1&quot;</td><td>&quot;ENSG00000142611&quot;</td><td>&quot;PRDM16&quot;</td><td>6</td></tr><tr><td>&quot;1&quot;</td><td>&quot;ENSG00000142611&quot;</td><td>&quot;PRDM16&quot;</td><td>7</td></tr><tr><td>&quot;1&quot;</td><td>&quot;ENSG00000142611&quot;</td><td>&quot;PRDM16&quot;</td><td>8</td></tr><tr><td>&quot;1&quot;</td><td>&quot;ENSG00000142611&quot;</td><td>&quot;PRDM16&quot;</td><td>9</td></tr><tr><td>&hellip;</td><td>&hellip;</td><td>&hellip;</td><td>&hellip;</td></tr><tr><td>&quot;KI270718.1&quot;</td><td>&quot;ENSG00000309831&quot;</td><td>null</td><td>4114450</td></tr><tr><td>&quot;KI270755.1&quot;</td><td>&quot;ENSG00000309258&quot;</td><td>null</td><td>4114451</td></tr><tr><td>&quot;KI270755.1&quot;</td><td>&quot;ENSG00000309258&quot;</td><td>null</td><td>4114452</td></tr><tr><td>&quot;KI270755.1&quot;</td><td>&quot;ENSG00000309258&quot;</td><td>null</td><td>4114453</td></tr><tr><td>&quot;KI270755.1&quot;</td><td>&quot;ENSG00000309258&quot;</td><td>null</td><td>4114454</td></tr></tbody></table></div>"
      ],
      "text/plain": [
       "shape: (4_114_450, 4)\n",
       "┌────────────┬─────────────────┬───────────┬─────────┐\n",
       "│ chr        ┆ gene_id         ┆ gene_name ┆ line    │\n",
       "│ ---        ┆ ---             ┆ ---       ┆ ---     │\n",
       "│ str        ┆ str             ┆ str       ┆ i64     │\n",
       "╞════════════╪═════════════════╪═══════════╪═════════╡\n",
       "│ 1          ┆ ENSG00000142611 ┆ PRDM16    ┆ 5       │\n",
       "│ 1          ┆ ENSG00000142611 ┆ PRDM16    ┆ 6       │\n",
       "│ 1          ┆ ENSG00000142611 ┆ PRDM16    ┆ 7       │\n",
       "│ 1          ┆ ENSG00000142611 ┆ PRDM16    ┆ 8       │\n",
       "│ 1          ┆ ENSG00000142611 ┆ PRDM16    ┆ 9       │\n",
       "│ …          ┆ …               ┆ …         ┆ …       │\n",
       "│ KI270718.1 ┆ ENSG00000309831 ┆ null      ┆ 4114450 │\n",
       "│ KI270755.1 ┆ ENSG00000309258 ┆ null      ┆ 4114451 │\n",
       "│ KI270755.1 ┆ ENSG00000309258 ┆ null      ┆ 4114452 │\n",
       "│ KI270755.1 ┆ ENSG00000309258 ┆ null      ┆ 4114453 │\n",
       "│ KI270755.1 ┆ ENSG00000309258 ┆ null      ┆ 4114454 │\n",
       "└────────────┴─────────────────┴───────────┴─────────┘"
      ]
     },
     "execution_count": 16,
     "metadata": {},
     "output_type": "execute_result"
    }
   ],
   "source": [
    "df"
   ]
  },
  {
   "cell_type": "code",
   "execution_count": 17,
   "id": "ecce8a4a",
   "metadata": {},
   "outputs": [
    {
     "data": {
      "text/html": [
       "<div><style>\n",
       ".dataframe > thead > tr,\n",
       ".dataframe > tbody > tr {\n",
       "  text-align: right;\n",
       "  white-space: pre-wrap;\n",
       "}\n",
       "</style>\n",
       "<small>shape: (78_932, 4)</small><table border=\"1\" class=\"dataframe\"><thead><tr><th>chr</th><th>gene_id</th><th>gene_name</th><th>line</th></tr><tr><td>str</td><td>str</td><td>str</td><td>i64</td></tr></thead><tbody><tr><td>&quot;14&quot;</td><td>&quot;ENSG00000139908&quot;</td><td>&quot;TSSK4&quot;</td><td>2911899</td></tr><tr><td>&quot;6&quot;</td><td>&quot;ENSG00000271793&quot;</td><td>null</td><td>1399640</td></tr><tr><td>&quot;19&quot;</td><td>&quot;ENSG00000236483&quot;</td><td>&quot;MTND2P40&quot;</td><td>3817397</td></tr><tr><td>&quot;19&quot;</td><td>&quot;ENSG00000290719&quot;</td><td>null</td><td>3929554</td></tr><tr><td>&quot;9&quot;</td><td>&quot;ENSG00000201451&quot;</td><td>&quot;Y_RNA&quot;</td><td>2066582</td></tr><tr><td>&hellip;</td><td>&hellip;</td><td>&hellip;</td><td>&hellip;</td></tr><tr><td>&quot;21&quot;</td><td>&quot;ENSG00000300030&quot;</td><td>null</td><td>4100022</td></tr><tr><td>&quot;2&quot;</td><td>&quot;ENSG00000233426&quot;</td><td>&quot;EIF3FP3&quot;</td><td>533863</td></tr><tr><td>&quot;16&quot;</td><td>&quot;ENSG00000270313&quot;</td><td>&quot;COX6CP16&quot;</td><td>3252508</td></tr><tr><td>&quot;14&quot;</td><td>&quot;ENSG00000202337&quot;</td><td>&quot;RNU6-8&quot;</td><td>2897367</td></tr><tr><td>&quot;Y&quot;</td><td>&quot;ENSG00000290840&quot;</td><td>&quot;XGY2&quot;</td><td>3964895</td></tr></tbody></table></div>"
      ],
      "text/plain": [
       "shape: (78_932, 4)\n",
       "┌─────┬─────────────────┬───────────┬─────────┐\n",
       "│ chr ┆ gene_id         ┆ gene_name ┆ line    │\n",
       "│ --- ┆ ---             ┆ ---       ┆ ---     │\n",
       "│ str ┆ str             ┆ str       ┆ i64     │\n",
       "╞═════╪═════════════════╪═══════════╪═════════╡\n",
       "│ 14  ┆ ENSG00000139908 ┆ TSSK4     ┆ 2911899 │\n",
       "│ 6   ┆ ENSG00000271793 ┆ null      ┆ 1399640 │\n",
       "│ 19  ┆ ENSG00000236483 ┆ MTND2P40  ┆ 3817397 │\n",
       "│ 19  ┆ ENSG00000290719 ┆ null      ┆ 3929554 │\n",
       "│ 9   ┆ ENSG00000201451 ┆ Y_RNA     ┆ 2066582 │\n",
       "│ …   ┆ …               ┆ …         ┆ …       │\n",
       "│ 21  ┆ ENSG00000300030 ┆ null      ┆ 4100022 │\n",
       "│ 2   ┆ ENSG00000233426 ┆ EIF3FP3   ┆ 533863  │\n",
       "│ 16  ┆ ENSG00000270313 ┆ COX6CP16  ┆ 3252508 │\n",
       "│ 14  ┆ ENSG00000202337 ┆ RNU6-8    ┆ 2897367 │\n",
       "│ Y   ┆ ENSG00000290840 ┆ XGY2      ┆ 3964895 │\n",
       "└─────┴─────────────────┴───────────┴─────────┘"
      ]
     },
     "execution_count": 17,
     "metadata": {},
     "output_type": "execute_result"
    }
   ],
   "source": [
    "df.unique(['chr','gene_id'])"
   ]
  },
  {
   "cell_type": "code",
   "execution_count": 21,
   "id": "be641896",
   "metadata": {},
   "outputs": [],
   "source": [
    "duplicate_gene_ids = (\n",
    "    df.group_by(\"gene_name\")\n",
    "      .agg(pl.col(\"chr\").n_unique().alias(\"unique_chr_count\"))\n",
    "      .filter(pl.col(\"unique_chr_count\") > 1)\n",
    ")"
   ]
  },
  {
   "cell_type": "code",
   "execution_count": 22,
   "id": "58b66e05",
   "metadata": {},
   "outputs": [
    {
     "data": {
      "text/html": [
       "<div><style>\n",
       ".dataframe > thead > tr,\n",
       ".dataframe > tbody > tr {\n",
       "  text-align: right;\n",
       "  white-space: pre-wrap;\n",
       "}\n",
       "</style>\n",
       "<small>shape: (72, 2)</small><table border=\"1\" class=\"dataframe\"><thead><tr><th>gene_name</th><th>unique_chr_count</th></tr><tr><td>str</td><td>u32</td></tr></thead><tbody><tr><td>&quot;LINC00102&quot;</td><td>2</td></tr><tr><td>&quot;PPP2R3B&quot;</td><td>2</td></tr><tr><td>&quot;U8&quot;</td><td>12</td></tr><tr><td>&quot;SNORA62&quot;</td><td>7</td></tr><tr><td>&quot;DDX11L16&quot;</td><td>5</td></tr><tr><td>&hellip;</td><td>&hellip;</td></tr><tr><td>&quot;LSP1P5&quot;</td><td>2</td></tr><tr><td>&quot;P2RY8&quot;</td><td>2</td></tr><tr><td>&quot;7SK&quot;</td><td>5</td></tr><tr><td>&quot;ASMTL-AS1&quot;</td><td>2</td></tr><tr><td>&quot;WASIR1&quot;</td><td>2</td></tr></tbody></table></div>"
      ],
      "text/plain": [
       "shape: (72, 2)\n",
       "┌───────────┬──────────────────┐\n",
       "│ gene_name ┆ unique_chr_count │\n",
       "│ ---       ┆ ---              │\n",
       "│ str       ┆ u32              │\n",
       "╞═══════════╪══════════════════╡\n",
       "│ LINC00102 ┆ 2                │\n",
       "│ PPP2R3B   ┆ 2                │\n",
       "│ U8        ┆ 12               │\n",
       "│ SNORA62   ┆ 7                │\n",
       "│ DDX11L16  ┆ 5                │\n",
       "│ …         ┆ …                │\n",
       "│ LSP1P5    ┆ 2                │\n",
       "│ P2RY8     ┆ 2                │\n",
       "│ 7SK       ┆ 5                │\n",
       "│ ASMTL-AS1 ┆ 2                │\n",
       "│ WASIR1    ┆ 2                │\n",
       "└───────────┴──────────────────┘"
      ]
     },
     "execution_count": 22,
     "metadata": {},
     "output_type": "execute_result"
    }
   ],
   "source": [
    "duplicate_gene_ids"
   ]
  },
  {
   "cell_type": "code",
   "execution_count": 27,
   "id": "2c07880b",
   "metadata": {},
   "outputs": [],
   "source": [
    "multi_chr_genes = (\n",
    "    df.group_by(\"gene_name\")\n",
    "      .agg([\n",
    "          pl.col(\"chr\").n_unique().alias(\"unique_chr_count\"),\n",
    "          pl.col(\"chr\").unique().alias(\"chr_list\")\n",
    "      ])\n",
    "      .filter(pl.col(\"unique_chr_count\") > 1)\n",
    ")"
   ]
  },
  {
   "cell_type": "code",
   "execution_count": 28,
   "id": "a29556dc",
   "metadata": {},
   "outputs": [
    {
     "data": {
      "text/html": [
       "<div><style>\n",
       ".dataframe > thead > tr,\n",
       ".dataframe > tbody > tr {\n",
       "  text-align: right;\n",
       "  white-space: pre-wrap;\n",
       "}\n",
       "</style>\n",
       "<small>shape: (72, 3)</small><table border=\"1\" class=\"dataframe\"><thead><tr><th>gene_name</th><th>unique_chr_count</th><th>chr_list</th></tr><tr><td>str</td><td>u32</td><td>list[str]</td></tr></thead><tbody><tr><td>&quot;SNORA72&quot;</td><td>4</td><td>[&quot;3&quot;, &quot;8&quot;, … &quot;1&quot;]</td></tr><tr><td>&quot;RNA5SP498&quot;</td><td>2</td><td>[&quot;X&quot;, &quot;Y&quot;]</td></tr><tr><td>&quot;ELOCP24&quot;</td><td>2</td><td>[&quot;Y&quot;, &quot;X&quot;]</td></tr><tr><td>&quot;5_8S_rRNA&quot;</td><td>7</td><td>[&quot;21&quot;, &quot;KI270442.1&quot;, … &quot;14&quot;]</td></tr><tr><td>&quot;FABP5P13&quot;</td><td>2</td><td>[&quot;Y&quot;, &quot;X&quot;]</td></tr><tr><td>&hellip;</td><td>&hellip;</td><td>&hellip;</td></tr><tr><td>&quot;LINC00106&quot;</td><td>2</td><td>[&quot;Y&quot;, &quot;X&quot;]</td></tr><tr><td>&quot;DPH3P2&quot;</td><td>2</td><td>[&quot;Y&quot;, &quot;X&quot;]</td></tr><tr><td>&quot;SHOX&quot;</td><td>2</td><td>[&quot;X&quot;, &quot;Y&quot;]</td></tr><tr><td>&quot;SNORA73&quot;</td><td>2</td><td>[&quot;18&quot;, &quot;6&quot;]</td></tr><tr><td>&quot;CRLF2&quot;</td><td>2</td><td>[&quot;Y&quot;, &quot;X&quot;]</td></tr></tbody></table></div>"
      ],
      "text/plain": [
       "shape: (72, 3)\n",
       "┌───────────┬──────────────────┬──────────────────────────────┐\n",
       "│ gene_name ┆ unique_chr_count ┆ chr_list                     │\n",
       "│ ---       ┆ ---              ┆ ---                          │\n",
       "│ str       ┆ u32              ┆ list[str]                    │\n",
       "╞═══════════╪══════════════════╪══════════════════════════════╡\n",
       "│ SNORA72   ┆ 4                ┆ [\"3\", \"8\", … \"1\"]            │\n",
       "│ RNA5SP498 ┆ 2                ┆ [\"X\", \"Y\"]                   │\n",
       "│ ELOCP24   ┆ 2                ┆ [\"Y\", \"X\"]                   │\n",
       "│ 5_8S_rRNA ┆ 7                ┆ [\"21\", \"KI270442.1\", … \"14\"] │\n",
       "│ FABP5P13  ┆ 2                ┆ [\"Y\", \"X\"]                   │\n",
       "│ …         ┆ …                ┆ …                            │\n",
       "│ LINC00106 ┆ 2                ┆ [\"Y\", \"X\"]                   │\n",
       "│ DPH3P2    ┆ 2                ┆ [\"Y\", \"X\"]                   │\n",
       "│ SHOX      ┆ 2                ┆ [\"X\", \"Y\"]                   │\n",
       "│ SNORA73   ┆ 2                ┆ [\"18\", \"6\"]                  │\n",
       "│ CRLF2     ┆ 2                ┆ [\"Y\", \"X\"]                   │\n",
       "└───────────┴──────────────────┴──────────────────────────────┘"
      ]
     },
     "execution_count": 28,
     "metadata": {},
     "output_type": "execute_result"
    }
   ],
   "source": [
    "multi_chr_genes"
   ]
  },
  {
   "cell_type": "code",
   "execution_count": null,
   "id": "37e12910",
   "metadata": {},
   "outputs": [
    {
     "data": {
      "text/plain": [
       "<polars.dataframe.group_by.GroupBy at 0x22140d20920>"
      ]
     },
     "execution_count": 23,
     "metadata": {},
     "output_type": "execute_result"
    }
   ],
   "source": [
    "df.group_by(\"gene_name\").agg()"
   ]
  }
 ],
 "metadata": {
  "kernelspec": {
   "display_name": ".venv",
   "language": "python",
   "name": "python3"
  },
  "language_info": {
   "codemirror_mode": {
    "name": "ipython",
    "version": 3
   },
   "file_extension": ".py",
   "mimetype": "text/x-python",
   "name": "python",
   "nbconvert_exporter": "python",
   "pygments_lexer": "ipython3",
   "version": "3.12.10"
  }
 },
 "nbformat": 4,
 "nbformat_minor": 5
}
