{
 "cells": [
  {
   "cell_type": "code",
   "execution_count": 17,
   "id": "c982d210",
   "metadata": {},
   "outputs": [],
   "source": [
    "line = 'chrY\tHAVANA\texon\t57209219\t57209354\t.\t+\t.\tgene_id \"ENSG00000292372.1\"; transcript_id \"ENST00000711280.1\"; gene_type \"protein_coding\"; gene_name \"WASH6P\"; transcript_type \"protein_coding_CDS_not_defined\"; transcript_name \"WASH6P-225\"; exon_number 3; exon_id \"ENSE00004015150.1\"; level 2; transcript_support_level \"5\"; hgnc_id \"HGNC:31685\"; havana_gene \"OTTHUMG00000022677.5\"; havana_transcript \"OTTHUMT00000058830.1\";'"
   ]
  },
  {
   "cell_type": "code",
   "execution_count": 18,
   "id": "7ceaf50c",
   "metadata": {},
   "outputs": [
    {
     "data": {
      "text/plain": [
       "'chrY\\tHAVANA\\texon\\t57209219\\t57209354\\t.\\t+\\t.\\tgene_id \"ENSG00000292372.1\"; transcript_id \"ENST00000711280.1\"; gene_type \"protein_coding\"; gene_name \"WASH6P\"; transcript_type \"protein_coding_CDS_not_defined\"; transcript_name \"WASH6P-225\"; exon_number 3; exon_id \"ENSE00004015150.1\"; level 2; transcript_support_level \"5\"; hgnc_id \"HGNC:31685\"; havana_gene \"OTTHUMG00000022677.5\"; havana_transcript \"OTTHUMT00000058830.1\";'"
      ]
     },
     "execution_count": 18,
     "metadata": {},
     "output_type": "execute_result"
    }
   ],
   "source": [
    "line"
   ]
  },
  {
   "cell_type": "code",
   "execution_count": 19,
   "id": "addee977",
   "metadata": {},
   "outputs": [
    {
     "data": {
      "text/plain": [
       "['gene_id \"ENSG00000292372.1\"',\n",
       " 'transcript_id \"ENST00000711280.1\"',\n",
       " 'gene_type \"protein_coding\"',\n",
       " 'gene_name \"WASH6P\"',\n",
       " 'transcript_type \"protein_coding_CDS_not_defined\"',\n",
       " 'transcript_name \"WASH6P-225\"',\n",
       " 'exon_number 3',\n",
       " 'exon_id \"ENSE00004015150.1\"',\n",
       " 'level 2',\n",
       " 'transcript_support_level \"5\"',\n",
       " 'hgnc_id \"HGNC:31685\"',\n",
       " 'havana_gene \"OTTHUMG00000022677.5\"',\n",
       " 'havana_transcript \"OTTHUMT00000058830.1\";']"
      ]
     },
     "execution_count": 19,
     "metadata": {},
     "output_type": "execute_result"
    }
   ],
   "source": [
    "metadata = line.split('\\t')[-1].split('; ')\n",
    "metadata"
   ]
  },
  {
   "cell_type": "code",
   "execution_count": 20,
   "id": "147539a3",
   "metadata": {},
   "outputs": [
    {
     "data": {
      "text/plain": [
       "'chrY'"
      ]
     },
     "execution_count": 20,
     "metadata": {},
     "output_type": "execute_result"
    }
   ],
   "source": [
    "chr_name = line.split('\\t')[0]\n",
    "chr_name"
   ]
  },
  {
   "cell_type": "code",
   "execution_count": 21,
   "id": "8ac57dba",
   "metadata": {},
   "outputs": [
    {
     "data": {
      "text/plain": [
       "['gene_id',\n",
       " 'transcript_id',\n",
       " 'gene_type',\n",
       " 'gene_name',\n",
       " 'transcript_type',\n",
       " 'transcript_name',\n",
       " 'exon_number',\n",
       " 'exon_id',\n",
       " 'level',\n",
       " 'transcript_support_level',\n",
       " 'hgnc_id',\n",
       " 'havana_gene',\n",
       " 'havana_transcript']"
      ]
     },
     "execution_count": 21,
     "metadata": {},
     "output_type": "execute_result"
    }
   ],
   "source": [
    "headers = [m.split()[0] for m in metadata]\n",
    "headers"
   ]
  },
  {
   "cell_type": "code",
   "execution_count": 22,
   "id": "c15a8fe7",
   "metadata": {},
   "outputs": [
    {
     "data": {
      "text/plain": [
       "['ENSG00000292372.1',\n",
       " 'ENST00000711280.1',\n",
       " 'protein_coding',\n",
       " 'WASH6P',\n",
       " 'protein_coding_CDS_not_defined',\n",
       " 'WASH6P-225',\n",
       " '3',\n",
       " 'ENSE00004015150.1',\n",
       " '2',\n",
       " '5',\n",
       " 'HGNC:31685',\n",
       " 'OTTHUMG00000022677.5',\n",
       " 'OTTHUMT00000058830.1;']"
      ]
     },
     "execution_count": 22,
     "metadata": {},
     "output_type": "execute_result"
    }
   ],
   "source": [
    "values =  [m.split()[1].replace('\"','') for m in metadata]\n",
    "values"
   ]
  },
  {
   "cell_type": "code",
   "execution_count": 23,
   "id": "8d75905d",
   "metadata": {},
   "outputs": [
    {
     "data": {
      "text/plain": [
       "{'gene_id': 'ENSG00000292372.1',\n",
       " 'transcript_id': 'ENST00000711280.1',\n",
       " 'gene_type': 'protein_coding',\n",
       " 'gene_name': 'WASH6P',\n",
       " 'transcript_type': 'protein_coding_CDS_not_defined',\n",
       " 'transcript_name': 'WASH6P-225',\n",
       " 'exon_number': '3',\n",
       " 'exon_id': 'ENSE00004015150.1',\n",
       " 'level': '2',\n",
       " 'transcript_support_level': '5',\n",
       " 'hgnc_id': 'HGNC:31685',\n",
       " 'havana_gene': 'OTTHUMG00000022677.5',\n",
       " 'havana_transcript': 'OTTHUMT00000058830.1;'}"
      ]
     },
     "execution_count": 23,
     "metadata": {},
     "output_type": "execute_result"
    }
   ],
   "source": [
    "dict(zip(headers,values))"
   ]
  },
  {
   "cell_type": "code",
   "execution_count": 24,
   "id": "94ac8449",
   "metadata": {},
   "outputs": [],
   "source": [
    "def extract_line_metadata(line:str) -> dict:\n",
    "\n",
    "    # get chromosome name\n",
    "    chr_name = line.split('\\t')[0]\n",
    "    # get metadata\n",
    "    metadata = line.split('\\t')[-1].split('; ')\n",
    "    headers = [m.split()[0] for m in metadata]\n",
    "    values =  [m.split()[1].replace('\"','') for m in metadata]\n",
    "    info = dict(zip(headers,values))\n",
    "    # add chr name to dict\n",
    "    info['chr'] = chr_name\n",
    "\n",
    "    return info\n",
    "    "
   ]
  },
  {
   "cell_type": "code",
   "execution_count": 25,
   "id": "ed7dfc84",
   "metadata": {},
   "outputs": [
    {
     "data": {
      "text/plain": [
       "{'gene_id': 'ENSG00000292372.1',\n",
       " 'transcript_id': 'ENST00000711280.1',\n",
       " 'gene_type': 'protein_coding',\n",
       " 'gene_name': 'WASH6P',\n",
       " 'transcript_type': 'protein_coding_CDS_not_defined',\n",
       " 'transcript_name': 'WASH6P-225',\n",
       " 'exon_number': '3',\n",
       " 'exon_id': 'ENSE00004015150.1',\n",
       " 'level': '2',\n",
       " 'transcript_support_level': '5',\n",
       " 'hgnc_id': 'HGNC:31685',\n",
       " 'havana_gene': 'OTTHUMG00000022677.5',\n",
       " 'havana_transcript': 'OTTHUMT00000058830.1;',\n",
       " 'chr': 'chrY'}"
      ]
     },
     "execution_count": 25,
     "metadata": {},
     "output_type": "execute_result"
    }
   ],
   "source": [
    "extract_line_metadata(line=line)"
   ]
  },
  {
   "cell_type": "code",
   "execution_count": 26,
   "id": "c4eb603b",
   "metadata": {},
   "outputs": [],
   "source": [
    "import polars as pl"
   ]
  },
  {
   "cell_type": "code",
   "execution_count": 27,
   "id": "0454f900",
   "metadata": {},
   "outputs": [],
   "source": [
    "df = pl.read_csv('gencode.v47.annotation.tsv',separator=\"\\t\")"
   ]
  },
  {
   "cell_type": "code",
   "execution_count": 28,
   "id": "18996101",
   "metadata": {},
   "outputs": [
    {
     "data": {
      "text/html": [
       "<div><style>\n",
       ".dataframe > thead > tr,\n",
       ".dataframe > tbody > tr {\n",
       "  text-align: right;\n",
       "  white-space: pre-wrap;\n",
       "}\n",
       "</style>\n",
       "<small>shape: (4_105_485, 4)</small><table border=\"1\" class=\"dataframe\"><thead><tr><th>chr</th><th>gene_id</th><th>gene_name</th><th>line</th></tr><tr><td>str</td><td>str</td><td>str</td><td>i64</td></tr></thead><tbody><tr><td>&quot;chr1&quot;</td><td>&quot;ENSG00000290825.2&quot;</td><td>&quot;DDX11L16&quot;</td><td>5</td></tr><tr><td>&quot;chr1&quot;</td><td>&quot;ENSG00000290825.2&quot;</td><td>&quot;DDX11L16&quot;</td><td>6</td></tr><tr><td>&quot;chr1&quot;</td><td>&quot;ENSG00000290825.2&quot;</td><td>&quot;DDX11L16&quot;</td><td>7</td></tr><tr><td>&quot;chr1&quot;</td><td>&quot;ENSG00000290825.2&quot;</td><td>&quot;DDX11L16&quot;</td><td>8</td></tr><tr><td>&quot;chr1&quot;</td><td>&quot;ENSG00000290825.2&quot;</td><td>&quot;DDX11L16&quot;</td><td>9</td></tr><tr><td>&hellip;</td><td>&hellip;</td><td>&hellip;</td><td>&hellip;</td></tr><tr><td>&quot;chrM&quot;</td><td>&quot;ENSG00000210195.2&quot;</td><td>&quot;MT-TT&quot;</td><td>4105485</td></tr><tr><td>&quot;chrM&quot;</td><td>&quot;ENSG00000210195.2&quot;</td><td>&quot;MT-TT&quot;</td><td>4105486</td></tr><tr><td>&quot;chrM&quot;</td><td>&quot;ENSG00000210196.2&quot;</td><td>&quot;MT-TP&quot;</td><td>4105487</td></tr><tr><td>&quot;chrM&quot;</td><td>&quot;ENSG00000210196.2&quot;</td><td>&quot;MT-TP&quot;</td><td>4105488</td></tr><tr><td>&quot;chrM&quot;</td><td>&quot;ENSG00000210196.2&quot;</td><td>&quot;MT-TP&quot;</td><td>4105489</td></tr></tbody></table></div>"
      ],
      "text/plain": [
       "shape: (4_105_485, 4)\n",
       "┌──────┬───────────────────┬───────────┬─────────┐\n",
       "│ chr  ┆ gene_id           ┆ gene_name ┆ line    │\n",
       "│ ---  ┆ ---               ┆ ---       ┆ ---     │\n",
       "│ str  ┆ str               ┆ str       ┆ i64     │\n",
       "╞══════╪═══════════════════╪═══════════╪═════════╡\n",
       "│ chr1 ┆ ENSG00000290825.2 ┆ DDX11L16  ┆ 5       │\n",
       "│ chr1 ┆ ENSG00000290825.2 ┆ DDX11L16  ┆ 6       │\n",
       "│ chr1 ┆ ENSG00000290825.2 ┆ DDX11L16  ┆ 7       │\n",
       "│ chr1 ┆ ENSG00000290825.2 ┆ DDX11L16  ┆ 8       │\n",
       "│ chr1 ┆ ENSG00000290825.2 ┆ DDX11L16  ┆ 9       │\n",
       "│ …    ┆ …                 ┆ …         ┆ …       │\n",
       "│ chrM ┆ ENSG00000210195.2 ┆ MT-TT     ┆ 4105485 │\n",
       "│ chrM ┆ ENSG00000210195.2 ┆ MT-TT     ┆ 4105486 │\n",
       "│ chrM ┆ ENSG00000210196.2 ┆ MT-TP     ┆ 4105487 │\n",
       "│ chrM ┆ ENSG00000210196.2 ┆ MT-TP     ┆ 4105488 │\n",
       "│ chrM ┆ ENSG00000210196.2 ┆ MT-TP     ┆ 4105489 │\n",
       "└──────┴───────────────────┴───────────┴─────────┘"
      ]
     },
     "execution_count": 28,
     "metadata": {},
     "output_type": "execute_result"
    }
   ],
   "source": [
    "df"
   ]
  },
  {
   "cell_type": "code",
   "execution_count": 33,
   "id": "03643085",
   "metadata": {},
   "outputs": [
    {
     "data": {
      "text/html": [
       "<div><style>\n",
       ".dataframe > thead > tr,\n",
       ".dataframe > tbody > tr {\n",
       "  text-align: right;\n",
       "  white-space: pre-wrap;\n",
       "}\n",
       "</style>\n",
       "<small>shape: (78_724, 4)</small><table border=\"1\" class=\"dataframe\"><thead><tr><th>chr</th><th>gene_id</th><th>gene_name</th><th>line</th></tr><tr><td>str</td><td>str</td><td>str</td><td>i64</td></tr></thead><tbody><tr><td>&quot;chr1&quot;</td><td>&quot;ENSG00000290825.2&quot;</td><td>&quot;DDX11L16&quot;</td><td>5</td></tr><tr><td>&quot;chr1&quot;</td><td>&quot;ENSG00000223972.6&quot;</td><td>&quot;DDX11L1&quot;</td><td>129</td></tr><tr><td>&quot;chr1&quot;</td><td>&quot;ENSG00000310526.1&quot;</td><td>&quot;WASH7P&quot;</td><td>137</td></tr><tr><td>&quot;chr1&quot;</td><td>&quot;ENSG00000227232.6&quot;</td><td>&quot;WASH7P&quot;</td><td>2408</td></tr><tr><td>&quot;chr1&quot;</td><td>&quot;ENSG00000278267.1&quot;</td><td>&quot;MIR6859-1&quot;</td><td>2420</td></tr><tr><td>&hellip;</td><td>&hellip;</td><td>&hellip;</td><td>&hellip;</td></tr><tr><td>&quot;chrM&quot;</td><td>&quot;ENSG00000198695.2&quot;</td><td>&quot;MT-ND6&quot;</td><td>4105471</td></tr><tr><td>&quot;chrM&quot;</td><td>&quot;ENSG00000210194.1&quot;</td><td>&quot;MT-TE&quot;</td><td>4105476</td></tr><tr><td>&quot;chrM&quot;</td><td>&quot;ENSG00000198727.2&quot;</td><td>&quot;MT-CYB&quot;</td><td>4105479</td></tr><tr><td>&quot;chrM&quot;</td><td>&quot;ENSG00000210195.2&quot;</td><td>&quot;MT-TT&quot;</td><td>4105484</td></tr><tr><td>&quot;chrM&quot;</td><td>&quot;ENSG00000210196.2&quot;</td><td>&quot;MT-TP&quot;</td><td>4105487</td></tr></tbody></table></div>"
      ],
      "text/plain": [
       "shape: (78_724, 4)\n",
       "┌──────┬───────────────────┬───────────┬─────────┐\n",
       "│ chr  ┆ gene_id           ┆ gene_name ┆ line    │\n",
       "│ ---  ┆ ---               ┆ ---       ┆ ---     │\n",
       "│ str  ┆ str               ┆ str       ┆ i64     │\n",
       "╞══════╪═══════════════════╪═══════════╪═════════╡\n",
       "│ chr1 ┆ ENSG00000290825.2 ┆ DDX11L16  ┆ 5       │\n",
       "│ chr1 ┆ ENSG00000223972.6 ┆ DDX11L1   ┆ 129     │\n",
       "│ chr1 ┆ ENSG00000310526.1 ┆ WASH7P    ┆ 137     │\n",
       "│ chr1 ┆ ENSG00000227232.6 ┆ WASH7P    ┆ 2408    │\n",
       "│ chr1 ┆ ENSG00000278267.1 ┆ MIR6859-1 ┆ 2420    │\n",
       "│ …    ┆ …                 ┆ …         ┆ …       │\n",
       "│ chrM ┆ ENSG00000198695.2 ┆ MT-ND6    ┆ 4105471 │\n",
       "│ chrM ┆ ENSG00000210194.1 ┆ MT-TE     ┆ 4105476 │\n",
       "│ chrM ┆ ENSG00000198727.2 ┆ MT-CYB    ┆ 4105479 │\n",
       "│ chrM ┆ ENSG00000210195.2 ┆ MT-TT     ┆ 4105484 │\n",
       "│ chrM ┆ ENSG00000210196.2 ┆ MT-TP     ┆ 4105487 │\n",
       "└──────┴───────────────────┴───────────┴─────────┘"
      ]
     },
     "execution_count": 33,
     "metadata": {},
     "output_type": "execute_result"
    }
   ],
   "source": [
    "unq = df.unique(pl.all().exclude('line'),maintain_order=True)\n",
    "unq"
   ]
  },
  {
   "cell_type": "code",
   "execution_count": 34,
   "id": "74f93bba",
   "metadata": {},
   "outputs": [],
   "source": [
    "repeats = pl.DataFrame()\n",
    "for row in unq.iter_rows():\n",
    "    chr_name, gene_id,gene_name, line = row\n",
    "    filtered = unq.filter(pl.col(\"gene_name\")==gene_name)\n",
    "    if filtered.height > 1:\n",
    "        repeats.vstack(filtered)"
   ]
  },
  {
   "cell_type": "code",
   "execution_count": 35,
   "id": "ab0ad91b",
   "metadata": {},
   "outputs": [
    {
     "data": {
      "text/html": [
       "<div><style>\n",
       ".dataframe > thead > tr,\n",
       ".dataframe > tbody > tr {\n",
       "  text-align: right;\n",
       "  white-space: pre-wrap;\n",
       "}\n",
       "</style>\n",
       "<small>shape: (0, 0)</small><table border=\"1\" class=\"dataframe\"><thead><tr></tr><tr></tr></thead><tbody></tbody></table></div>"
      ],
      "text/plain": [
       "shape: (0, 0)\n",
       "┌┐\n",
       "╞╡\n",
       "└┘"
      ]
     },
     "execution_count": 35,
     "metadata": {},
     "output_type": "execute_result"
    }
   ],
   "source": [
    "repeats"
   ]
  }
 ],
 "metadata": {
  "kernelspec": {
   "display_name": ".venv",
   "language": "python",
   "name": "python3"
  },
  "language_info": {
   "codemirror_mode": {
    "name": "ipython",
    "version": 3
   },
   "file_extension": ".py",
   "mimetype": "text/x-python",
   "name": "python",
   "nbconvert_exporter": "python",
   "pygments_lexer": "ipython3",
   "version": "3.12.10"
  }
 },
 "nbformat": 4,
 "nbformat_minor": 5
}
